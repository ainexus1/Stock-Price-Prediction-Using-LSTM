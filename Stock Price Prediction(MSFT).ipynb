{
 "cells": [
  {
   "cell_type": "code",
   "execution_count": null,
   "id": "b5b53b82-b67e-4388-bd86-72e35ea10bca",
   "metadata": {},
   "outputs": [],
   "source": [
    "import tensorflow as tf\n",
    "import numpy as np\n",
    "import pandas as pd\n",
    "import pandas_datareader as web\n",
    "import math\n",
    "import matplotlib.pyplot as plt\n",
    "from sklearn.preprocessing import StandardScaler\n",
    "from keras.models import Sequential\n",
    "from keras.layers import Dense, LSTM\n",
    "plt.style.use('fivethirtyeight')\n",
    "import warnings\n",
    "warnings.filterwarnings('ignore')"
   ]
  },
  {
   "cell_type": "code",
   "execution_count": null,
   "id": "d3c0ec43-83a5-44a9-8140-28b768cc55ae",
   "metadata": {},
   "outputs": [],
   "source": [
    "df = pd.read_csv(\"\") #add your dataset here"
   ]
  },
  {
   "cell_type": "code",
   "execution_count": null,
   "id": "b40e8f18-8e52-48ce-b80a-65d44867143c",
   "metadata": {},
   "outputs": [],
   "source": [
    "df.head()"
   ]
  },
  {
   "cell_type": "code",
   "execution_count": null,
   "id": "08728643-5679-4602-a3e1-c64a64144156",
   "metadata": {},
   "outputs": [],
   "source": [
    "plt.figure(figsize=(5,5))\n",
    "plt.title(\"MSFT Stock Closing Price\")\n",
    "plt.xlabel('Data')\n",
    "plt.ylabel('Closing Price')\n",
    "plt.plot(df[\"Close\"])\n",
    "plt.show()"
   ]
  },
  {
   "cell_type": "code",
   "execution_count": null,
   "id": "35c1e67b-a0e4-43c7-8fce-b9a55a6cd8f4",
   "metadata": {},
   "outputs": [],
   "source": [
    "data = df.filter(['Close'])\n",
    "data = data.values\n",
    "training_data = math.ceil(len(data)*0.8)\n",
    "training_data"
   ]
  },
  {
   "cell_type": "code",
   "execution_count": null,
   "id": "245cb8c7-4f8a-46e5-8a86-fa241aac6f18",
   "metadata": {},
   "outputs": [],
   "source": [
    "scaler = StandardScaler()\n",
    "scaled_data = scaler.fit_transform(data)\n",
    "print(\"Mean of the preprocessd data:\", scaled_data.mean())\n",
    "print(\"Standed Deviation of preprocessed data:\", scaled_data.std())"
   ]
  },
  {
   "cell_type": "code",
   "execution_count": null,
   "id": "3dab0b60-a0a6-4d76-aa3c-73336a316b32",
   "metadata": {},
   "outputs": [],
   "source": [
    "train_data = scaled_data[0:training_data, :]\n",
    "x_train = []\n",
    "y_train = []\n",
    "\n",
    "for i in range(60, len(train_data)):\n",
    "    x_train.append(train_data[i-60:i])\n",
    "    y_train.append(train_data[i])"
   ]
  },
  {
   "cell_type": "code",
   "execution_count": null,
   "id": "cd7af5fd-c5d5-4bc7-806e-7e167d522a43",
   "metadata": {},
   "outputs": [],
   "source": [
    "x_train, y_train = np.array(x_train), np.array(y_train)"
   ]
  },
  {
   "cell_type": "code",
   "execution_count": null,
   "id": "5283332d-d36a-4bfd-bba1-835de2285843",
   "metadata": {},
   "outputs": [],
   "source": [
    "x_train.shape"
   ]
  },
  {
   "cell_type": "code",
   "execution_count": null,
   "id": "3177a8b0-ef2f-4f95-bc10-f00280910433",
   "metadata": {},
   "outputs": [],
   "source": [
    "model = Sequential()\n",
    "model.add(LSTM(200, return_sequences=True, input_shape=(x_train.shape[1], 1)))\n",
    "model.add(LSTM(200, return_sequences=False))\n",
    "model.add(Dense(100))\n",
    "model.add(Dense(50))\n",
    "model.add(Dense(1))"
   ]
  },
  {
   "cell_type": "code",
   "execution_count": null,
   "id": "b4ec6dea-60fb-4811-80a3-52f85d56d6ba",
   "metadata": {},
   "outputs": [],
   "source": [
    "model.compile(optimizer='adam', loss='mean_squared_error')\n",
    "model.summary()"
   ]
  },
  {
   "cell_type": "code",
   "execution_count": null,
   "id": "e4861e4c-febe-4e6e-915f-495403eed7d9",
   "metadata": {},
   "outputs": [],
   "source": [
    "model = model.fit(x_train, y_train, epochs=10)"
   ]
  },
  {
   "cell_type": "code",
   "execution_count": null,
   "id": "6ee74c0e-5b96-47ae-bce5-c2e0b9ba7042",
   "metadata": {},
   "outputs": [],
   "source": [
    "test_data = scaled_data[training_data-60:, :]\n",
    "x_test = []\n",
    "y_test = data[training_data:, :]\n",
    "for i in range(60, len(test_data)):\n",
    "    x_test.append(test_data[i-60:i, 0])"
   ]
  },
  {
   "cell_type": "code",
   "execution_count": null,
   "id": "f9fab0bf-749a-4233-ab85-d91da616fd88",
   "metadata": {},
   "outputs": [],
   "source": [
    "x_test = np.array(x_test)"
   ]
  },
  {
   "cell_type": "code",
   "execution_count": null,
   "id": "caf94410-db95-4582-873d-958cf3838c9e",
   "metadata": {},
   "outputs": [],
   "source": [
    "x_test = np.reshape(x_test,(x_test.shape[0], x_test.shape[1], 1))"
   ]
  },
  {
   "cell_type": "code",
   "execution_count": null,
   "id": "41a15187-d81c-4bbd-99a3-c17d6db5f10f",
   "metadata": {},
   "outputs": [],
   "source": [
    "prediction = model.predict(x_test)\n",
    "prediction = scaler.inverse_transform(prediction)\n",
    "print(prediction)"
   ]
  }
 ],
 "metadata": {
  "kernelspec": {
   "display_name": "Python 3 (ipykernel)",
   "language": "python",
   "name": "python3"
  },
  "language_info": {
   "codemirror_mode": {
    "name": "ipython",
    "version": 3
   },
   "file_extension": ".py",
   "mimetype": "text/x-python",
   "name": "python",
   "nbconvert_exporter": "python",
   "pygments_lexer": "ipython3",
   "version": "3.11.5"
  }
 },
 "nbformat": 4,
 "nbformat_minor": 5
}
